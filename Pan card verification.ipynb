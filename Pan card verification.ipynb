{
 "cells": [
  {
   "cell_type": "markdown",
   "id": "e42fc641",
   "metadata": {},
   "source": [
    "# Project 1 - Pan card verification"
   ]
  },
  {
   "cell_type": "code",
   "execution_count": 2,
   "id": "6e0ff854",
   "metadata": {},
   "outputs": [
    {
     "name": "stdout",
     "output_type": "stream",
     "text": [
      "Requirement already satisfied: prettytable in c:\\users\\asus\\anaconda3\\lib\\site-packages (3.9.0)\n",
      "Requirement already satisfied: wcwidth in c:\\users\\asus\\anaconda3\\lib\\site-packages (from prettytable) (0.2.5)\n",
      "Note: you may need to restart the kernel to use updated packages.\n"
     ]
    }
   ],
   "source": [
    "pip install prettytable"
   ]
  },
  {
   "cell_type": "code",
   "execution_count": 8,
   "id": "657d4d11",
   "metadata": {},
   "outputs": [
    {
     "name": "stdout",
     "output_type": "stream",
     "text": [
      "+--------+------+--------+\n",
      "|  Name  | Roll | Branch |\n",
      "+--------+------+--------+\n",
      "| Pankaj |  12  |  Cse   |\n",
      "| Rohan  |  43  | Civil  |\n",
      "| Karan  |  90  |  Mech  |\n",
      "+--------+------+--------+\n"
     ]
    }
   ],
   "source": [
    "from prettytable import PrettyTable\n",
    "\n",
    "table_head=[\"Name\",\"Roll\",\"Branch\"]\n",
    "myheading=PrettyTable(table_head)\n",
    "#or\n",
    "# myheading=PrettyTable([\"Name\",\"Roll\",\"Branch\"]) \n",
    "\n",
    "data1=[\"Pankaj\",12,'Cse']\n",
    "data2=['Rohan',43,'Civil']\n",
    "data3=['Karan',90,'Mech']\n",
    "\n",
    "myheading.add_row(data1)\n",
    "myheading.add_row(data2)\n",
    "myheading.add_row(data3)\n",
    "print(myheading)"
   ]
  },
  {
   "cell_type": "code",
   "execution_count": 1,
   "id": "a03a24fc",
   "metadata": {},
   "outputs": [
    {
     "name": "stdout",
     "output_type": "stream",
     "text": [
      "{'action': 'verify_with_source', 'completed_at': '2023-09-27T16:21:01+05:30', 'created_at': '2023-09-27T16:21:00+05:30', 'group_id': '8e16424a-58fc-4ba4-ab20-5bc8e7c3c41e', 'request_id': 'd5dc6460-3bd5-4c76-a4ef-1e9abea1beba', 'result': {'source_output': {'aadhaar_seeding_status': True, 'first_name': 'AASTHA', 'gender': None, 'id_number': 'BIZPN6138C', 'last_name': 'NIRMAL', 'middle_name': None, 'name_on_card': 'AASTHA  NIRMAL', 'source': 'NSDL', 'status': 'id_found'}}, 'status': 'completed', 'task_id': '74f4c926-250c-43ca-9c53-453e87ceacd1', 'type': 'ind_pan'}\n"
     ]
    }
   ],
   "source": [
    "import http.client\n",
    "import json\n",
    "conn = http.client.HTTPSConnection(\"pan-card-verification1.p.rapidapi.com\")\n",
    "\n",
    "payload = \"{\\r\\n    \\\"task_id\\\": \\\"74f4c926-250c-43ca-9c53-453e87ceacd1\\\",\\r\\n    \\\"group_id\\\": \\\"8e16424a-58fc-4ba4-ab20-5bc8e7c3c41e\\\",\\r\\n    \\\"data\\\": {\\r\\n        \\\"id_number\\\": \\\"BIZPN6138C\\\"\\r\\n    }\\r\\n}\"\n",
    "\n",
    "headers = {\n",
    "    'content-type': \"application/json\",\n",
    "    'X-RapidAPI-Key': \"4ff4e4ab7fmshc259bb6b8da396bp1485f7jsnc80c8d8f5c45\",\n",
    "    'X-RapidAPI-Host': \"pan-card-verification1.p.rapidapi.com\"\n",
    "}\n",
    "\n",
    "conn.request(\"POST\", \"/v3/tasks/sync/verify_with_source/ind_pan\", payload, headers)\n",
    "\n",
    "res = conn.getresponse()\n",
    "data = res.read()\n",
    "\n",
    "mydata=json.loads(data.decode(\"utf-8\"))\n",
    "print(mydata)"
   ]
  },
  {
   "cell_type": "code",
   "execution_count": 23,
   "id": "b470d9cf",
   "metadata": {},
   "outputs": [
    {
     "name": "stdout",
     "output_type": "stream",
     "text": [
      "{'aadhaar_seeding_status': True, 'first_name': 'AASTHA', 'gender': None, 'id_number': 'BIZPN6138C', 'last_name': 'NIRMAL', 'middle_name': None, 'name_on_card': 'AASTHA  NIRMAL', 'source': 'NSDL', 'status': 'id_found'}\n",
      "True\n",
      "AASTHA\n",
      "NIRMAL\n",
      "AASTHA  NIRMAL\n",
      "id_found\n"
     ]
    }
   ],
   "source": [
    "import http.client\n",
    "import json\n",
    "conn = http.client.HTTPSConnection(\"pan-card-verification1.p.rapidapi.com\")\n",
    "\n",
    "payload = \"{\\r\\n    \\\"task_id\\\": \\\"74f4c926-250c-43ca-9c53-453e87ceacd1\\\",\\r\\n    \\\"group_id\\\": \\\"8e16424a-58fc-4ba4-ab20-5bc8e7c3c41e\\\",\\r\\n    \\\"data\\\": {\\r\\n        \\\"id_number\\\": \\\"BIZPN6138C\\\"\\r\\n    }\\r\\n}\"\n",
    "\n",
    "headers = {\n",
    "    'content-type': \"application/json\",\n",
    "    'X-RapidAPI-Key': \"4ff4e4ab7fmshc259bb6b8da396bp1485f7jsnc80c8d8f5c45\",\n",
    "    'X-RapidAPI-Host': \"pan-card-verification1.p.rapidapi.com\"\n",
    "}\n",
    "\n",
    "conn.request(\"POST\", \"/v3/tasks/sync/verify_with_source/ind_pan\", payload, headers)\n",
    "\n",
    "res = conn.getresponse()\n",
    "data = res.read()\n",
    "\n",
    "mydata=json.loads(data.decode(\"utf-8\"))\n",
    "print(mydata['result']['source_output'])\n",
    "print(mydata['result']['source_output']['aadhaar_seeding_status'])\n",
    "print(mydata['result']['source_output']['first_name'])\n",
    "print(mydata['result']['source_output']['last_name'])\n",
    "print(mydata['result']['source_output']['name_on_card'])\n",
    "print(mydata['result']['source_output']['status'])"
   ]
  },
  {
   "cell_type": "code",
   "execution_count": 20,
   "id": "deb80bf7",
   "metadata": {},
   "outputs": [
    {
     "name": "stdout",
     "output_type": "stream",
     "text": [
      "True\n",
      "AASTHA\n",
      "NIRMAL\n",
      "AASTHA  NIRMAL\n",
      "id_found\n"
     ]
    }
   ],
   "source": [
    "import http.client\n",
    "import json\n",
    "conn = http.client.HTTPSConnection(\"pan-card-verification1.p.rapidapi.com\")\n",
    "\n",
    "payload = \"{\\r\\n    \\\"task_id\\\": \\\"74f4c926-250c-43ca-9c53-453e87ceacd1\\\",\\r\\n    \\\"group_id\\\": \\\"8e16424a-58fc-4ba4-ab20-5bc8e7c3c41e\\\",\\r\\n    \\\"data\\\": {\\r\\n        \\\"id_number\\\": \\\"BIZPN6138C\\\"\\r\\n    }\\r\\n}\"\n",
    "\n",
    "headers = {\n",
    "    'content-type': \"application/json\",\n",
    "    'X-RapidAPI-Key': \"4ff4e4ab7fmshc259bb6b8da396bp1485f7jsnc80c8d8f5c45\",\n",
    "    'X-RapidAPI-Host': \"pan-card-verification1.p.rapidapi.com\"\n",
    "}\n",
    "\n",
    "conn.request(\"POST\", \"/v3/tasks/sync/verify_with_source/ind_pan\", payload, headers)\n",
    "\n",
    "res = conn.getresponse()\n",
    "data = res.read()\n",
    "\n",
    "mydata=json.loads(data.decode(\"utf-8\"))\n",
    "\n",
    "# id_not_found\n",
    "if mydata['result']['source_output']['status']=='id_found':\n",
    "    print(mydata['result']['source_output']['aadhaar_seeding_status'])\n",
    "    print(mydata['result']['source_output']['first_name'])\n",
    "    print(mydata['result']['source_output']['last_name'])\n",
    "    print(mydata['result']['source_output']['name_on_card'])\n",
    "    print(mydata['result']['source_output']['status'])\n",
    "else:\n",
    "    print(\"Pancard not found\")"
   ]
  },
  {
   "cell_type": "code",
   "execution_count": 22,
   "id": "fb7228e6",
   "metadata": {},
   "outputs": [
    {
     "name": "stdout",
     "output_type": "stream",
     "text": [
      "+-------------------+--------+--------+----------------+\n",
      "| Aadhaar Card Link | FName  | LName  |  Name on Card  |\n",
      "+-------------------+--------+--------+----------------+\n",
      "|        True       | AASTHA | NIRMAL | AASTHA  NIRMAL |\n",
      "+-------------------+--------+--------+----------------+\n"
     ]
    }
   ],
   "source": [
    "import http.client\n",
    "import json\n",
    "from prettytable import PrettyTable\n",
    "\n",
    "conn = http.client.HTTPSConnection(\"pan-card-verification1.p.rapidapi.com\")\n",
    "\n",
    "payload = \"{\\r\\n    \\\"task_id\\\": \\\"74f4c926-250c-43ca-9c53-453e87ceacd1\\\",\\r\\n    \\\"group_id\\\": \\\"8e16424a-58fc-4ba4-ab20-5bc8e7c3c41e\\\",\\r\\n    \\\"data\\\": {\\r\\n        \\\"id_number\\\": \\\"BIZPN6138C\\\"\\r\\n    }\\r\\n}\"\n",
    "\n",
    "headers = {\n",
    "    'content-type': \"application/json\",\n",
    "    'X-RapidAPI-Key': \"4ff4e4ab7fmshc259bb6b8da396bp1485f7jsnc80c8d8f5c45\",\n",
    "    'X-RapidAPI-Host': \"pan-card-verification1.p.rapidapi.com\"\n",
    "}\n",
    "\n",
    "conn.request(\"POST\", \"/v3/tasks/sync/verify_with_source/ind_pan\", payload, headers)\n",
    "\n",
    "res = conn.getresponse()\n",
    "data = res.read()\n",
    "\n",
    "mydata=json.loads(data.decode(\"utf-8\"))\n",
    "\n",
    "myheading=PrettyTable(['Aadhaar Card Link','FName','LName','Name on Card'])\n",
    "\n",
    "if mydata['result']['source_output']['status']=='id_found':\n",
    "    st=mydata['result']['source_output']['aadhaar_seeding_status']\n",
    "    fn=mydata['result']['source_output']['first_name']\n",
    "    ln=mydata['result']['source_output']['last_name']\n",
    "    nmcrd=mydata['result']['source_output']['name_on_card']\n",
    "    data1=[st,fn,ln,nmcrd]\n",
    "    myheading.add_row(data1)\n",
    "    print(myheading)\n",
    "else:\n",
    "    print(\"Pancard not found\")"
   ]
  },
  {
   "cell_type": "code",
   "execution_count": 25,
   "id": "a28f72ed",
   "metadata": {},
   "outputs": [
    {
     "name": "stdout",
     "output_type": "stream",
     "text": [
      "Enter your Pan Card Number BIZPN6138C\n",
      "+-------------------+--------+--------+----------------+\n",
      "| Aadhaar Card Link | FName  | LName  |  Name on Card  |\n",
      "+-------------------+--------+--------+----------------+\n",
      "|        True       | AASTHA | NIRMAL | AASTHA  NIRMAL |\n",
      "+-------------------+--------+--------+----------------+\n"
     ]
    }
   ],
   "source": [
    "import http.client\n",
    "import json\n",
    "from prettytable import PrettyTable\n",
    "\n",
    "myinput=input('Enter your Pan Card Number ')\n",
    "\n",
    "conn = http.client.HTTPSConnection(\"pan-card-verification1.p.rapidapi.com\")\n",
    "\n",
    "payload = \"{\\r\\n    \\\"task_id\\\": \\\"74f4c926-250c-43ca-9c53-453e87ceacd1\\\",\\r\\n    \\\"group_id\\\": \\\"8e16424a-58fc-4ba4-ab20-5bc8e7c3c41e\\\",\\r\\n    \\\"data\\\": {\\r\\n        \\\"id_number\\\": \\\"\"+myinput+\"\\\"\\r\\n    }\\r\\n}\"\n",
    "\n",
    "headers = {\n",
    "    'content-type': \"application/json\",\n",
    "    'X-RapidAPI-Key': \"4ff4e4ab7fmshc259bb6b8da396bp1485f7jsnc80c8d8f5c45\",\n",
    "    'X-RapidAPI-Host': \"pan-card-verification1.p.rapidapi.com\"\n",
    "}\n",
    "\n",
    "conn.request(\"POST\", \"/v3/tasks/sync/verify_with_source/ind_pan\", payload, headers)\n",
    "\n",
    "res = conn.getresponse()\n",
    "data = res.read()\n",
    "\n",
    "mydata=json.loads(data.decode(\"utf-8\"))\n",
    "\n",
    "myheading=PrettyTable(['Aadhaar Card Link','FName','LName','Name on Card'])\n",
    "\n",
    "if mydata['result']['source_output']['status']=='id_found':\n",
    "    st=mydata['result']['source_output']['aadhaar_seeding_status']\n",
    "    fn=mydata['result']['source_output']['first_name']\n",
    "    ln=mydata['result']['source_output']['last_name']\n",
    "    nmcrd=mydata['result']['source_output']['name_on_card']\n",
    "    data1=[st,fn,ln,nmcrd]\n",
    "    myheading.add_row(data1)\n",
    "    print(myheading)\n",
    "else:\n",
    "    print(\"Pancard not found\")"
   ]
  },
  {
   "cell_type": "code",
   "execution_count": 26,
   "id": "726d04cd",
   "metadata": {},
   "outputs": [
    {
     "name": "stdout",
     "output_type": "stream",
     "text": [
      "Enter your Pan Card Number BIZPN6138B\n",
      "Pancard not found\n"
     ]
    }
   ],
   "source": [
    "import http.client\n",
    "import json\n",
    "from prettytable import PrettyTable\n",
    "\n",
    "myinput=input('Enter your Pan Card Number ')\n",
    "\n",
    "conn = http.client.HTTPSConnection(\"pan-card-verification1.p.rapidapi.com\")\n",
    "\n",
    "payload = \"{\\r\\n    \\\"task_id\\\": \\\"74f4c926-250c-43ca-9c53-453e87ceacd1\\\",\\r\\n    \\\"group_id\\\": \\\"8e16424a-58fc-4ba4-ab20-5bc8e7c3c41e\\\",\\r\\n    \\\"data\\\": {\\r\\n        \\\"id_number\\\": \\\"\"+myinput+\"\\\"\\r\\n    }\\r\\n}\"\n",
    "\n",
    "headers = {\n",
    "    'content-type': \"application/json\",\n",
    "    'X-RapidAPI-Key': \"4ff4e4ab7fmshc259bb6b8da396bp1485f7jsnc80c8d8f5c45\",\n",
    "    'X-RapidAPI-Host': \"pan-card-verification1.p.rapidapi.com\"\n",
    "}\n",
    "\n",
    "conn.request(\"POST\", \"/v3/tasks/sync/verify_with_source/ind_pan\", payload, headers)\n",
    "\n",
    "res = conn.getresponse()\n",
    "data = res.read()\n",
    "\n",
    "mydata=json.loads(data.decode(\"utf-8\"))\n",
    "\n",
    "myheading=PrettyTable(['Aadhaar Card Link','FName','LName','Name on Card'])\n",
    "\n",
    "if mydata['result']['source_output']['status']=='id_found':\n",
    "    st=mydata['result']['source_output']['aadhaar_seeding_status']\n",
    "    fn=mydata['result']['source_output']['first_name']\n",
    "    ln=mydata['result']['source_output']['last_name']\n",
    "    nmcrd=mydata['result']['source_output']['name_on_card']\n",
    "    data1=[st,fn,ln,nmcrd]\n",
    "    myheading.add_row(data1)\n",
    "    print(myheading)\n",
    "else:\n",
    "    print(\"Pancard not found\")"
   ]
  },
  {
   "cell_type": "code",
   "execution_count": null,
   "id": "babdfad1",
   "metadata": {},
   "outputs": [],
   "source": []
  },
  {
   "cell_type": "code",
   "execution_count": 1,
   "id": "691c9a2d",
   "metadata": {},
   "outputs": [
    {
     "name": "stdout",
     "output_type": "stream",
     "text": [
      "Requirement already satisfied: pyttsx3 in c:\\users\\asus\\anaconda3\\lib\\site-packages (2.90)\n",
      "Requirement already satisfied: comtypes in c:\\users\\asus\\anaconda3\\lib\\site-packages (from pyttsx3) (1.2.0)\n",
      "Requirement already satisfied: pypiwin32 in c:\\users\\asus\\anaconda3\\lib\\site-packages (from pyttsx3) (223)\n",
      "Requirement already satisfied: pywin32 in c:\\users\\asus\\anaconda3\\lib\\site-packages (from pyttsx3) (305.1)\n",
      "Note: you may need to restart the kernel to use updated packages.\n"
     ]
    }
   ],
   "source": [
    "pip install pyttsx3"
   ]
  },
  {
   "cell_type": "code",
   "execution_count": 4,
   "id": "99345be7",
   "metadata": {},
   "outputs": [],
   "source": [
    "import pyttsx3\n",
    "engine = pyttsx3.init()\n",
    "engine.say(\"I will speak this text\")\n",
    "engine.runAndWait()"
   ]
  },
  {
   "cell_type": "code",
   "execution_count": 8,
   "id": "f203c84e",
   "metadata": {},
   "outputs": [],
   "source": [
    "import pyttsx3\n",
    "chd = pyttsx3.init()\n",
    "chd.say(\"I will speak this text\")\n",
    "chd.setProperty('rate',16)\n",
    "chd.runAndWait()"
   ]
  },
  {
   "cell_type": "code",
   "execution_count": 12,
   "id": "0f92437d",
   "metadata": {},
   "outputs": [],
   "source": [
    "import pyttsx3\n",
    "chd = pyttsx3.init()\n",
    "chd.say(\"I will speak this text\")\n",
    "chd.setProperty('rate',30)\n",
    "voices = chd.getProperty('voices')       \n",
    "#getting details of current voice\n",
    "#chd.setProperty('voice', voices[0].id)  #changing index, changes voices. o for male\n",
    "chd.setProperty('voice', voices[1].id)   #changing index, changes voices. 1 for female\n",
    "chd.runAndWait()"
   ]
  },
  {
   "cell_type": "code",
   "execution_count": 8,
   "id": "7052a159",
   "metadata": {},
   "outputs": [],
   "source": [
    "import pyttsx3\n",
    "chd = pyttsx3.init()\n",
    "w='Hello'\n",
    "chd.say(w)\n",
    "chd.setProperty('rate',30)\n",
    "voices = chd.getProperty('voices')       \n",
    "\n",
    "chd.setProperty('voice', voices[1].id)   #changing index, changes voices. 1 for female\n",
    "\n",
    "# Optional\n",
    "chd.save_to_file(w,'test.mp3')\n",
    "chd.runAndWait()"
   ]
  },
  {
   "cell_type": "markdown",
   "id": "24eec4f6",
   "metadata": {},
   "source": [
    "# Exercise"
   ]
  },
  {
   "cell_type": "code",
   "execution_count": 2,
   "id": "f7097243",
   "metadata": {},
   "outputs": [
    {
     "name": "stdout",
     "output_type": "stream",
     "text": [
      "Enter your Pan Card Number BIZPN6138C\n",
      "+-------------------+--------+--------+----------------+\n",
      "| Aadhaar Card Link | FName  | LName  |  Name on Card  |\n",
      "+-------------------+--------+--------+----------------+\n",
      "|        True       | AASTHA | NIRMAL | AASTHA  NIRMAL |\n",
      "+-------------------+--------+--------+----------------+\n"
     ]
    }
   ],
   "source": [
    "import http.client\n",
    "import json\n",
    "import pyttsx3\n",
    "from prettytable import PrettyTable\n",
    "\n",
    "chd = pyttsx3.init()\n",
    "chd.say('Please enter your Pan Card Number')\n",
    "chd.setProperty('rate',300)\n",
    "voices = chd.getProperty('voices')       \n",
    "chd.setProperty('voice', voices[1].id)\n",
    "chd.runAndWait()\n",
    "\n",
    "myinput=input('Enter your Pan Card Number ')\n",
    "\n",
    "conn = http.client.HTTPSConnection(\"pan-card-verification1.p.rapidapi.com\")\n",
    "\n",
    "payload = \"{\\r\\n    \\\"task_id\\\": \\\"74f4c926-250c-43ca-9c53-453e87ceacd1\\\",\\r\\n    \\\"group_id\\\": \\\"8e16424a-58fc-4ba4-ab20-5bc8e7c3c41e\\\",\\r\\n    \\\"data\\\": {\\r\\n        \\\"id_number\\\": \\\"\"+myinput+\"\\\"\\r\\n    }\\r\\n}\"\n",
    "\n",
    "headers = {\n",
    "    'content-type': \"application/json\",\n",
    "    'X-RapidAPI-Key': \"4ff4e4ab7fmshc259bb6b8da396bp1485f7jsnc80c8d8f5c45\",\n",
    "    'X-RapidAPI-Host': \"pan-card-verification1.p.rapidapi.com\"\n",
    "}\n",
    "\n",
    "conn.request(\"POST\", \"/v3/tasks/sync/verify_with_source/ind_pan\", payload, headers)\n",
    "\n",
    "res = conn.getresponse()\n",
    "data = res.read()\n",
    "\n",
    "mydata=json.loads(data.decode(\"utf-8\"))\n",
    "\n",
    "myheading=PrettyTable(['Aadhaar Card Link','FName','LName','Name on Card'])\n",
    "\n",
    "if mydata['result']['source_output']['status']=='id_found':\n",
    "    st=mydata['result']['source_output']['aadhaar_seeding_status']\n",
    "    fn=mydata['result']['source_output']['first_name']\n",
    "    ln=mydata['result']['source_output']['last_name']\n",
    "    nmcrd=mydata['result']['source_output']['name_on_card']\n",
    "    data1=[st,fn,ln,nmcrd]\n",
    "    myheading.add_row(data1)\n",
    "    \n",
    "    a = pyttsx3.init()\n",
    "    a.say('Pan card successfully verified')\n",
    "    a.setProperty('rate',100)\n",
    "    voices = a.getProperty('voices')       \n",
    "    chd.setProperty('voice', voices[1].id)\n",
    "    chd.runAndWait()\n",
    "    \n",
    "    print(myheading)\n",
    "    \n",
    "else:\n",
    "    b = pyttsx3.init()\n",
    "    b.say('Pan card incorrect, please enter valid pan card number')\n",
    "    b.setProperty('rate',100)\n",
    "    voices = b.getProperty('voices')       \n",
    "    chd.setProperty('voice', voices[1].id)\n",
    "    chd.runAndWait()\n",
    "    \n",
    "    print(\"Pancard not found\")"
   ]
  },
  {
   "cell_type": "code",
   "execution_count": 5,
   "id": "90147d21",
   "metadata": {},
   "outputs": [
    {
     "name": "stdout",
     "output_type": "stream",
     "text": [
      "Enter your Pan Card Number BIZPN6138B\n",
      "Pancard not found\n"
     ]
    }
   ],
   "source": [
    "import http.client\n",
    "import json\n",
    "import pyttsx3\n",
    "from prettytable import PrettyTable\n",
    "\n",
    "chd = pyttsx3.init()\n",
    "chd.say('Please enter your Pan Card Number')\n",
    "chd.setProperty('rate',300)\n",
    "voices = chd.getProperty('voices')       \n",
    "chd.setProperty('voice', voices[1].id)\n",
    "chd.runAndWait()\n",
    "\n",
    "myinput=input('Enter your Pan Card Number ')\n",
    "\n",
    "conn = http.client.HTTPSConnection(\"pan-card-verification1.p.rapidapi.com\")\n",
    "\n",
    "payload = \"{\\r\\n    \\\"task_id\\\": \\\"74f4c926-250c-43ca-9c53-453e87ceacd1\\\",\\r\\n    \\\"group_id\\\": \\\"8e16424a-58fc-4ba4-ab20-5bc8e7c3c41e\\\",\\r\\n    \\\"data\\\": {\\r\\n        \\\"id_number\\\": \\\"\"+myinput+\"\\\"\\r\\n    }\\r\\n}\"\n",
    "\n",
    "headers = {\n",
    "    'content-type': \"application/json\",\n",
    "    'X-RapidAPI-Key': \"4ff4e4ab7fmshc259bb6b8da396bp1485f7jsnc80c8d8f5c45\",\n",
    "    'X-RapidAPI-Host': \"pan-card-verification1.p.rapidapi.com\"\n",
    "}\n",
    "\n",
    "conn.request(\"POST\", \"/v3/tasks/sync/verify_with_source/ind_pan\", payload, headers)\n",
    "\n",
    "res = conn.getresponse()\n",
    "data = res.read()\n",
    "\n",
    "mydata=json.loads(data.decode(\"utf-8\"))\n",
    "\n",
    "myheading=PrettyTable(['Aadhaar Card Link','FName','LName','Name on Card'])\n",
    "\n",
    "if mydata['result']['source_output']['status']=='id_found':\n",
    "    st=mydata['result']['source_output']['aadhaar_seeding_status']\n",
    "    fn=mydata['result']['source_output']['first_name']\n",
    "    ln=mydata['result']['source_output']['last_name']\n",
    "    nmcrd=mydata['result']['source_output']['name_on_card']\n",
    "    data1=[st,fn,ln,nmcrd]\n",
    "    myheading.add_row(data1)\n",
    "    \n",
    "    a = pyttsx3.init()\n",
    "    a.say('Pan card successfully verified')\n",
    "    a.setProperty('rate',100)\n",
    "    voices = a.getProperty('voices')       \n",
    "    chd.setProperty('voice', voices[1].id)\n",
    "    chd.runAndWait()\n",
    "    \n",
    "    print(myheading)\n",
    "    \n",
    "else:\n",
    "    b = pyttsx3.init()\n",
    "    b.say('Pan card incorrect, please enter valid pan card number')\n",
    "    b.setProperty('rate',50)\n",
    "    voices = b.getProperty('voices')       \n",
    "    chd.setProperty('voice', voices[1].id)\n",
    "    chd.runAndWait()\n",
    "    \n",
    "    print(\"Pancard not found\")"
   ]
  },
  {
   "cell_type": "markdown",
   "id": "508ec781",
   "metadata": {},
   "source": [
    "# Practice"
   ]
  },
  {
   "cell_type": "code",
   "execution_count": 3,
   "id": "8ee2227b",
   "metadata": {},
   "outputs": [
    {
     "name": "stdout",
     "output_type": "stream",
     "text": [
      "{'Failed': {'response_timestamp': '2023-09-28 11:01:58.956', 'request_timestamp': '2023-09-28 11:01:58.937', 'txn_id': '3ed268c4-e8b8-11ec-8fea-0242ac120002-2023-09-28 11:01:58.938', 'ErrorCode': 'ERROR-102', 'ErrorMessage': 'invalid  request'}}\n"
     ]
    }
   ],
   "source": [
    "import http.client\n",
    "import json\n",
    "\n",
    "conn = http.client.HTTPSConnection(\"verify-aadhaar-mobile-email-link.p.rapidapi.com\")\n",
    "\n",
    "payload = \"clientid=222&uidnumber=%3CREQUIRED%3E&consent=Y&txn_id=3ed268c4-e8b8-11ec-8fea-0242ac120002&method=emailnmobilev2\"\n",
    "\n",
    "headers = {\n",
    "    'content-type': \"application/x-www-form-urlencoded\",\n",
    "    'X-RapidAPI-Key': \"4ff4e4ab7fmshc259bb6b8da396bp1485f7jsnc80c8d8f5c45\",\n",
    "    'X-RapidAPI-Host': \"verify-aadhaar-mobile-email-link.p.rapidapi.com\"\n",
    "}\n",
    "\n",
    "conn.request(\"POST\", \"/Uidverifywebsvcv1/VerifyEmailMobilelink\", payload, headers)\n",
    "\n",
    "res = conn.getresponse()\n",
    "data = res.read()\n",
    "\n",
    "mydata=json.loads(data.decode(\"utf-8\"))\n",
    "print(mydata)"
   ]
  },
  {
   "cell_type": "code",
   "execution_count": null,
   "id": "bd7090f5",
   "metadata": {},
   "outputs": [],
   "source": []
  }
 ],
 "metadata": {
  "kernelspec": {
   "display_name": "Python 3 (ipykernel)",
   "language": "python",
   "name": "python3"
  },
  "language_info": {
   "codemirror_mode": {
    "name": "ipython",
    "version": 3
   },
   "file_extension": ".py",
   "mimetype": "text/x-python",
   "name": "python",
   "nbconvert_exporter": "python",
   "pygments_lexer": "ipython3",
   "version": "3.11.4"
  }
 },
 "nbformat": 4,
 "nbformat_minor": 5
}
